{
 "cells": [
  {
   "cell_type": "code",
   "execution_count": null,
   "id": "d9ffe95a",
   "metadata": {},
   "outputs": [],
   "source": [
    "import math\n",
    "import json"
   ]
  },
  {
   "cell_type": "code",
   "execution_count": null,
   "id": "133b9037",
   "metadata": {},
   "outputs": [],
   "source": [
    "# GET /convert\n",
    "req = json.loads(REQUEST)\n",
    "args = req['args']\n",
    "\n",
    "if 'angle' not in args:\n",
    "  print(json.dumps({'convertedAngle': None}))\n",
    "else:\n",
    "  # Note the [0] when retrieving the argument.\n",
    "  # This is because you could potentially pass multiple angles.\n",
    "  angle = int(args['angle'][0])\n",
    "  converted = math.radians(angle)\n",
    "  print(json.dumps({'convertedAngle': converted}))"
   ]
  },
  {
   "cell_type": "code",
   "execution_count": null,
   "id": "ec593f90",
   "metadata": {},
   "outputs": [],
   "source": [
    "#jupyter kernelgateway --KernelGatewayApp.api='kernel_gateway.notebook_http' --KernelGatewayApp.seed_uri='API_Test.ipynb'\n",
    "# figure out how to run in background\n",
    "\n",
    "#jupyter kernelgateway --KernelGatewayApp.api='kernel_gateway.notebook_http' --KernelGatewayApp.seed_uri='API_Test.ipynb' --ip='*'"
   ]
  },
  {
   "cell_type": "code",
   "execution_count": null,
   "id": "2e3751c5",
   "metadata": {},
   "outputs": [],
   "source": [
    "#curl \"http://127.0.0.1:8888/convert?angle=90\""
   ]
  },
  {
   "cell_type": "code",
   "execution_count": null,
   "id": "4a529ad9",
   "metadata": {},
   "outputs": [],
   "source": []
  }
 ],
 "metadata": {
  "kernelspec": {
   "display_name": "Python 3 (ipykernel)",
   "language": "python",
   "name": "python3"
  },
  "language_info": {
   "codemirror_mode": {
    "name": "ipython",
    "version": 3
   },
   "file_extension": ".py",
   "mimetype": "text/x-python",
   "name": "python",
   "nbconvert_exporter": "python",
   "pygments_lexer": "ipython3",
   "version": "3.10.4"
  }
 },
 "nbformat": 4,
 "nbformat_minor": 5
}
