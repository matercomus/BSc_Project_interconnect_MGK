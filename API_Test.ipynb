{
 "cells": [
  {
   "cell_type": "code",
   "execution_count": 6,
   "id": "d9ffe95a",
   "metadata": {},
   "outputs": [],
   "source": [
    "import math\n",
    "import json\n",
    "# run this in terminal\n",
    "# jupyter kernelgateway --KernelGatewayApp.api='kernel_gateway.notebook_http' --KernelGatewayApp.seed_uri='API_Test.ipynb' --debug\n"
   ]
  },
  {
   "cell_type": "code",
   "execution_count": 7,
   "id": "133b9037",
   "metadata": {},
   "outputs": [
    {
     "ename": "NameError",
     "evalue": "name 'REQUEST' is not defined",
     "output_type": "error",
     "traceback": [
      "\u001b[0;31m---------------------------------------------------------------------------\u001b[0m",
      "\u001b[0;31mNameError\u001b[0m                                 Traceback (most recent call last)",
      "\u001b[1;32m/home/matt/BSc_Project_interconnect_MGK/API_Test.ipynb Cell 2'\u001b[0m in \u001b[0;36m<cell line: 2>\u001b[0;34m()\u001b[0m\n\u001b[1;32m      <a href='vscode-notebook-cell:/home/matt/BSc_Project_interconnect_MGK/API_Test.ipynb#ch0000001?line=0'>1</a>\u001b[0m \u001b[39m# GET /convert\u001b[39;00m\n\u001b[0;32m----> <a href='vscode-notebook-cell:/home/matt/BSc_Project_interconnect_MGK/API_Test.ipynb#ch0000001?line=1'>2</a>\u001b[0m req \u001b[39m=\u001b[39m json\u001b[39m.\u001b[39mloads(REQUEST)\n\u001b[1;32m      <a href='vscode-notebook-cell:/home/matt/BSc_Project_interconnect_MGK/API_Test.ipynb#ch0000001?line=2'>3</a>\u001b[0m args \u001b[39m=\u001b[39m req[\u001b[39m'\u001b[39m\u001b[39margs\u001b[39m\u001b[39m'\u001b[39m]\n\u001b[1;32m      <a href='vscode-notebook-cell:/home/matt/BSc_Project_interconnect_MGK/API_Test.ipynb#ch0000001?line=4'>5</a>\u001b[0m \u001b[39mif\u001b[39;00m \u001b[39m'\u001b[39m\u001b[39mangle\u001b[39m\u001b[39m'\u001b[39m \u001b[39mnot\u001b[39;00m \u001b[39min\u001b[39;00m args:\n",
      "\u001b[0;31mNameError\u001b[0m: name 'REQUEST' is not defined"
     ]
    }
   ],
   "source": [
    "# GET /convert\n",
    "req = json.loads(REQUEST)\n",
    "args = req['args']\n",
    "\n",
    "if 'angle' not in args:\n",
    "  print(json.dumps({'convertedAngle': None}))\n",
    "else:\n",
    "  # Note the [0] when retrieving the argument.\n",
    "  # This is because you could potentially pass multiple angles.\n",
    "  angle = int(args['angle'][0])\n",
    "  converted = math.radians(angle)\n",
    "  print(json.dumps({'convertedAngle': converted}))"
   ]
  },
  {
   "cell_type": "code",
   "execution_count": 8,
   "id": "2e3751c5",
   "metadata": {},
   "outputs": [
    {
     "name": "stdout",
     "output_type": "stream",
     "text": [
      "curl: (7) Failed to connect to 127.0.0.1 port 8889 after 0 ms: Connection refused\n"
     ]
    }
   ],
   "source": [
    "!curl \"http://127.0.0.1:8889/convert?angle=90\""
   ]
  },
  {
   "cell_type": "code",
   "execution_count": null,
   "id": "4a529ad9",
   "metadata": {},
   "outputs": [],
   "source": []
  }
 ],
 "metadata": {
  "kernelspec": {
   "display_name": "Python 3 (ipykernel)",
   "language": "python",
   "name": "python3"
  },
  "language_info": {
   "codemirror_mode": {
    "name": "ipython",
    "version": 3
   },
   "file_extension": ".py",
   "mimetype": "text/x-python",
   "name": "python",
   "nbconvert_exporter": "python",
   "pygments_lexer": "ipython3",
   "version": "3.10.4"
  }
 },
 "nbformat": 4,
 "nbformat_minor": 5
}
