{
 "cells": [
  {
   "cell_type": "code",
   "execution_count": null,
   "id": "d9ffe95a",
   "metadata": {},
   "outputs": [],
   "source": [
    "import math\n",
    "import json"
   ]
  },
  {
   "cell_type": "code",
   "execution_count": null,
   "id": "133b9037",
   "metadata": {},
   "outputs": [],
   "source": [
    "# GET /convert\n",
    "req = json.loads(REQUEST)\n",
    "args = req['args']\n",
    "\n",
    "if 'angle' not in args:\n",
    "  print(json.dumps({'convertedAngle': None}))\n",
    "else:\n",
    "  # Note the [0] when retrieving the argument.\n",
    "  # This is because you could potentially pass multiple angles.\n",
    "  angle = int(args['angle'][0])\n",
    "  converted = math.radians(angle)\n",
    "  print(json.dumps({'convertedAngle': converted}))"
   ]
  },
  {
   "cell_type": "code",
   "execution_count": null,
   "id": "ec593f90",
   "metadata": {},
   "outputs": [],
   "source": [
    "# figure out how to run in background\n",
    "\n",
    "#jupyter kernelgateway --KernelGatewayApp.api='kernel_gateway.notebook_http' --KernelGatewayApp.seed_uri='API_Test.ipynb' --ip='*'\n",
    "\n"
   ]
  },
  {
   "cell_type": "code",
   "execution_count": null,
   "id": "7741e4d0",
   "metadata": {},
   "outputs": [],
   "source": [
    "# PUT /STARTUP-DO-NOT-HIT\n",
    "\n",
    "import os\n",
    "os.system('''jupyter kernelgateway \\\n",
    "\n",
    "    --KernelGatewayApp.api='kernel_gateway.notebook_http' \\\n",
    "\n",
    "    --KernelGatewayApp.seed_uri='API_Test.ipynb' \\\n",
    "        \n",
    "    --ip='*' \\\n",
    "        \n",
    "    &''') # use & to send task to background"
   ]
  },
  {
   "cell_type": "code",
   "execution_count": null,
   "id": "2e3751c5",
   "metadata": {},
   "outputs": [],
   "source": [
    "# hostname -I\n",
    "#curl \"http://127.0.0.1:8888/convert?angle=90\""
   ]
  },
  {
   "cell_type": "code",
   "execution_count": null,
   "id": "a9148841",
   "metadata": {},
   "outputs": [],
   "source": []
  }
 ],
 "metadata": {
  "kernelspec": {
   "display_name": "Python 3.10.4 64-bit",
   "language": "python",
   "name": "python3"
  },
  "language_info": {
   "codemirror_mode": {
    "name": "ipython",
    "version": 3
   },
   "file_extension": ".py",
   "mimetype": "text/x-python",
   "name": "python",
   "nbconvert_exporter": "python",
   "pygments_lexer": "ipython3",
   "version": "3.10.9 (main, Dec 25 2022, 21:29:15) [GCC 12.2.0]"
  },
  "vscode": {
   "interpreter": {
    "hash": "e7370f93d1d0cde622a1f8e1c04877d8463912d04d973331ad4851f04de6915a"
   }
  }
 },
 "nbformat": 4,
 "nbformat_minor": 5
}
